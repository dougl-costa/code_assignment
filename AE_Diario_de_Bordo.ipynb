{
  "nbformat": 4,
  "nbformat_minor": 0,
  "metadata": {
    "colab": {
      "provenance": [],
      "authorship_tag": "ABX9TyPHktHdemjhpqGTARMA/nVp",
      "include_colab_link": true
    },
    "kernelspec": {
      "name": "python3",
      "display_name": "Python 3"
    },
    "language_info": {
      "name": "python"
    }
  },
  "cells": [
    {
      "cell_type": "markdown",
      "metadata": {
        "id": "view-in-github",
        "colab_type": "text"
      },
      "source": [
        "<a href=\"https://colab.research.google.com/github/dougl-costa/code_assignment/blob/main/AE_Diario_de_Bordo.ipynb\" target=\"_parent\"><img src=\"https://colab.research.google.com/assets/colab-badge.svg\" alt=\"Open In Colab\"/></a>"
      ]
    },
    {
      "cell_type": "code",
      "execution_count": 20,
      "metadata": {
        "id": "daDNxzeGM2za"
      },
      "outputs": [],
      "source": [
        "from pyspark.sql import SparkSession\n",
        "from pyspark.sql.functions import col, to_date, count, when, sum as _sum, max as _max, min as _min, avg as _avg"
      ]
    },
    {
      "cell_type": "code",
      "source": [
        "# Inicializar a sessão Spark\n",
        "spark = SparkSession.builder.appName(\"AnaliseCorridas\").getOrCreate()"
      ],
      "metadata": {
        "id": "f5nW5P8yN8K3"
      },
      "execution_count": 8,
      "outputs": []
    },
    {
      "cell_type": "code",
      "source": [
        "# Carregar o arquivo CSV\n",
        "df = spark.read.csv(\"info_transportes.csv\", header=True, inferSchema=True, sep=\";\")\n"
      ],
      "metadata": {
        "colab": {
          "base_uri": "https://localhost:8080/",
          "height": 52
        },
        "id": "JBPm9I6CN-d-",
        "outputId": "9e15233e-bb1d-4d36-cef2-a286118f4657"
      },
      "execution_count": 12,
      "outputs": [
        {
          "output_type": "display_data",
          "data": {
            "text/plain": [
              "DataFrame[DATA_INICIO: string, DATA_FIM: string, CATEGORIA: string, LOCAL_INICIO: string, LOCAL_FIM: string, DISTANCIA: int, PROPOSITO: string]"
            ]
          },
          "metadata": {}
        }
      ]
    },
    {
      "cell_type": "code",
      "source": [
        "# Converter a coluna DATA_INICIO para o formato de data yyyy-MM-dd\n",
        "df = df.withColumn(\"DT_REFE\", to_date(col(\"DATA_INICIO\"), \"yyyy-MM-dd\"))"
      ],
      "metadata": {
        "id": "HCHHs157OJo1"
      },
      "execution_count": 27,
      "outputs": []
    },
    {
      "cell_type": "code",
      "source": [
        "# Agrupar por DT_REFE e calcular as métricas\n",
        "info_corridas_do_dia = df.groupBy(\"DT_REFE\").agg(\n",
        "    count(\"*\").alias(\"QT_CORR\"),  # Quantidade total de corridas\n",
        "    _sum(when(col(\"CATEGORIA\") == \"Negócio\", 1).otherwise(0)).alias(\"QT_CORR_NEG\"),  # Corridas de Negócio\n",
        "    _sum(when(col(\"CATEGORIA\") == \"Pessoal\", 1).otherwise(0)).alias(\"QT_CORR_PESS\"),  # Corridas Pessoais\n",
        "    _max(\"DISTANCIA\").alias(\"VL_MAX_DIST\"),  # Distância máxima\n",
        "    _min(\"DISTANCIA\").alias(\"VL_MIN_DIST\"),  # Distância mínima\n",
        "    _avg(\"DISTANCIA\").alias(\"VL_AVG_DIST\"),  # Média de distância\n",
        "    _sum(when(col(\"PROPOSITO\") == \"Reunião\", 1).otherwise(0)).alias(\"QT_CORR_REUNI\"),  # Corridas para Reunião\n",
        "    _sum(when((col(\"PROPOSITO\").isNotNull()) & (col(\"PROPOSITO\") != \"Reunião\"), 1).otherwise(0)).alias(\"QT_CORR_NAO_REUNI\")  # Corridas com propósito diferente de Reunião\n",
        ")\n"
      ],
      "metadata": {
        "id": "3yMtonFTOM19"
      },
      "execution_count": 21,
      "outputs": []
    },
    {
      "cell_type": "code",
      "source": [
        "display(info_corridas_do_dia)"
      ],
      "metadata": {
        "colab": {
          "base_uri": "https://localhost:8080/",
          "height": 52
        },
        "id": "iNSeO9Q1Pnb8",
        "outputId": "84c41237-f6e0-48f9-ac02-dafc8f60b132"
      },
      "execution_count": 23,
      "outputs": [
        {
          "output_type": "display_data",
          "data": {
            "text/plain": [
              "DataFrame[DT_REFE: date, QT_CORR: bigint, QT_CORR_NEG: bigint, QT_CORR_PESS: bigint, VL_MAX_DIST: int, VL_MIN_DIST: int, VL_AVG_DIST: double, QT_CORR_REUNI: bigint, QT_CORR_NAO_REUNI: bigint]"
            ]
          },
          "metadata": {}
        }
      ]
    },
    {
      "cell_type": "code",
      "source": [
        "# Ordenar por DT_REFE (opcional)\n",
        "info_corridas_do_dia = info_corridas_do_dia.orderBy(\"DT_REFE\")\n",
        "\n",
        "# Exibir o resultado\n",
        "# info_corridas_do_dia.show()\n",
        "\n",
        "info_corridas_do_dia.write.format(\"parquet\")"
      ],
      "metadata": {
        "colab": {
          "base_uri": "https://localhost:8080/"
        },
        "id": "2iYh8bGhN3sU",
        "outputId": "64dd65b8-3d98-462a-ac41-add5f11db2a9"
      },
      "execution_count": 26,
      "outputs": [
        {
          "output_type": "execute_result",
          "data": {
            "text/plain": [
              "<pyspark.sql.readwriter.DataFrameWriter at 0x7f20f04bb790>"
            ]
          },
          "metadata": {},
          "execution_count": 26
        }
      ]
    }
  ]
}